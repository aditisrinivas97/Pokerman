{
 "cells": [
  {
   "cell_type": "code",
   "execution_count": 4,
   "metadata": {},
   "outputs": [
    {
     "name": "stderr",
     "output_type": "stream",
     "text": [
      "Using TensorFlow backend.\n"
     ]
    }
   ],
   "source": [
    "# -------------------- Imports -------------------- #\n",
    "from keras.models import Sequential\n",
    "from keras.layers import Dense\n",
    "import numpy as np, pandas as pd, os\n",
    "from prettytable import PrettyTable\n",
    "from matplotlib import pyplot as plt"
   ]
  },
  {
   "cell_type": "code",
   "execution_count": 5,
   "metadata": {},
   "outputs": [],
   "source": [
    "# -------------------- Globals and Configs -------------------- #\n",
    "feature_names = list()\n",
    "for index in range(1, 6):\n",
    "    feature_names.extend([\"Suit\"+str(index), \"Rank\"+str(index)])\n",
    "\n",
    "feature_names.append('class')\n",
    "\n",
    "\n",
    "training_input_file = os.path.abspath('../data/csv/train.csv')\n",
    "testing_input_file = os.path.abspath('../data/csv/test.csv')\n",
    "\n",
    "np.random.seed(666)     # seed for reproducible results\n",
    "\n",
    "# To store configs\n",
    "class myConfigs:\n",
    "    features = 0\n",
    "    classes = 0\n",
    "\n",
    "\n",
    "config = myConfigs()"
   ]
  },
  {
   "cell_type": "code",
   "execution_count": 9,
   "metadata": {},
   "outputs": [
    {
     "name": "stdout",
     "output_type": "stream",
     "text": [
      "+----------+-------+\n",
      "|  Config  | Value |\n",
      "+----------+-------+\n",
      "| features |   10  |\n",
      "| classes  |   10  |\n",
      "+----------+-------+\n",
      "Instances in training data : 25010\n",
      "Instances in testing data : 1000000\n"
     ]
    }
   ],
   "source": [
    "# -------------------- Data -------------------- #\n",
    "\n",
    "train_data = pd.read_csv(training_input_file, names=feature_names)\n",
    "test_data = pd.read_csv(testing_input_file, names=feature_names)\n",
    "\n",
    "# Get features of data\n",
    "config.features = len(train_data.columns) - 1\n",
    "config.classes = len(set(train_data['class']))\n",
    "\n",
    "# Shuffle training data\n",
    "train_data = train_data.sample(frac=1).reset_index(drop=True)\n",
    "\n",
    "# Seperate data and classes\n",
    "train_y = np.array(train_data['class'])\n",
    "train_x = np.array(train_data.drop('class', 1))\n",
    "\n",
    "test_y = np.array(test_data['class'])\n",
    "test_x = np.array(test_data.drop('class', 1))\n",
    "\n",
    "tab = PrettyTable(['Config', 'Value'])\n",
    "configs = vars(config)\n",
    "\n",
    "for key in configs:\n",
    "    tab.add_row([key, configs[key]])\n",
    "print(tab)\n",
    "\n",
    "print(\"Instances in training data :\", len(train_data))\n",
    "print(\"Instances in testing data :\", len(test_data))"
   ]
  },
  {
   "cell_type": "code",
   "execution_count": 13,
   "metadata": {},
   "outputs": [
    {
     "data": {
      "text/plain": [
       "<keras.callbacks.History at 0x1159255c0>"
      ]
     },
     "execution_count": 13,
     "metadata": {},
     "output_type": "execute_result"
    }
   ],
   "source": [
    "# -------------------- Model -------------------- #\n",
    "model = Sequential()\n",
    "\n",
    "# Input layer\n",
    "model.add(Dense(config.features, input_dim = train_x.shape[1], activation='relu'))\n",
    "\n",
    "# Hidden layers\n",
    "model.add(Dense(config.features//2 , activation='relu'))\n",
    "model.add(Dense(config.features//2 , activation='relu'))\n",
    "\n",
    "# Output layer\n",
    "model.add(Dense(1, activation='softmax'))\n",
    "model.compile(loss='binary_crossentropy', optimizer='adam', metrics=['accuracy'])\n",
    "model.fit(train_x, train_y, epochs = 500, batch_size = 500, verbose=0)"
   ]
  },
  {
   "cell_type": "code",
   "execution_count": 14,
   "metadata": {},
   "outputs": [
    {
     "name": "stdout",
     "output_type": "stream",
     "text": [
      "25010/25010 [==============================] - 0s 19us/step\n",
      "Train = acc 42.37904838088606\n",
      "1000000/1000000 [==============================] - 16s 16us/step\n",
      "Test = acc 42.2498\n"
     ]
    }
   ],
   "source": [
    "scores = model.evaluate(train_x, train_y)\n",
    "print(\"Train =\", model.metrics_names[1], scores[1] * 100)\n",
    "\n",
    "scores = model.evaluate(test_x, test_y)\n",
    "print(\"Test =\", model.metrics_names[1], scores[1] * 100)"
   ]
  },
  {
   "cell_type": "code",
   "execution_count": null,
   "metadata": {},
   "outputs": [],
   "source": [
    "train_accuracies = list()\n",
    "test_accuracies = list()\n",
    "\n",
    "for iterations in range(50, 500, 50):\n",
    "    model.fit(train_x, train_y, epochs = iterations, batch_size = 500, verbose=0)\n",
    "    scores = model.evaluate(train_x, train_y, verbose=0)\n",
    "    train_accuracies.append(scores[1]* 100)\n",
    "    scores = model.evaluate(test_x, test_y, verbose=0)\n",
    "    test_accuracies.append(scores[1]* 100)"
   ]
  },
  {
   "cell_type": "code",
   "execution_count": null,
   "metadata": {},
   "outputs": [],
   "source": [
    "plt.title('Accuracies for training data')\n",
    "plt.plot(range(50, 500, 50), train_accuracies)\n",
    "plt.show()\n",
    "plt.title('Accuracies for testing data')\n",
    "plt.plot(range(50, 500, 50), test_accuracies)\n",
    "plt.show()"
   ]
  },
  {
   "cell_type": "code",
   "execution_count": null,
   "metadata": {},
   "outputs": [],
   "source": []
  }
 ],
 "metadata": {
  "kernelspec": {
   "display_name": "Python 3",
   "language": "python",
   "name": "python3"
  },
  "language_info": {
   "codemirror_mode": {
    "name": "ipython",
    "version": 3
   },
   "file_extension": ".py",
   "mimetype": "text/x-python",
   "name": "python",
   "nbconvert_exporter": "python",
   "pygments_lexer": "ipython3",
   "version": "3.6.4"
  }
 },
 "nbformat": 4,
 "nbformat_minor": 2
}
