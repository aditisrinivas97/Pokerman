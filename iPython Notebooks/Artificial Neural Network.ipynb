{
 "cells": [
  {
   "cell_type": "code",
   "execution_count": 77,
   "metadata": {},
   "outputs": [],
   "source": [
    "# -------------------- Imports -------------------- #\n",
    "from keras.models import Sequential\n",
    "from keras.layers import Input, Dense, Flatten\n",
    "from keras.models import Model\n",
    "import numpy as np, pandas as pd, os\n",
    "from prettytable import PrettyTable\n",
    "from matplotlib import pyplot as plt\n",
    "import math"
   ]
  },
  {
   "cell_type": "code",
   "execution_count": 33,
   "metadata": {},
   "outputs": [],
   "source": [
    "# -------------------- Globals and Configs -------------------- #\n",
    "feature_names = list()\n",
    "for index in range(1, 6):\n",
    "    feature_names.extend([\"Suit\"+str(index), \"Rank\"+str(index)])\n",
    "\n",
    "feature_names.append('class')\n",
    "\n",
    "\n",
    "training_input_file = os.path.abspath('../data/csv/train.csv')\n",
    "testing_input_file = os.path.abspath('../data/csv/test.csv')\n",
    "\n",
    "np.random.seed(666)     # seed for reproducible results\n",
    "\n",
    "# To store configs\n",
    "class myConfigs:\n",
    "    features = 0\n",
    "    classes = 0\n",
    "\n",
    "\n",
    "config = myConfigs()"
   ]
  },
  {
   "cell_type": "code",
   "execution_count": 72,
   "metadata": {},
   "outputs": [
    {
     "name": "stdout",
     "output_type": "stream",
     "text": [
      "+----------+-------+\n",
      "|  Config  | Value |\n",
      "+----------+-------+\n",
      "| features |   10  |\n",
      "| classes  |   10  |\n",
      "+----------+-------+\n",
      "Instances in training data : 25010\n",
      "Instances in testing data : 1000000\n"
     ]
    }
   ],
   "source": [
    "# -------------------- Data -------------------- #\n",
    "\n",
    "train_data = pd.read_csv(training_input_file, names=feature_names)\n",
    "test_data = pd.read_csv(testing_input_file, names=feature_names)\n",
    "\n",
    "# Get features of data\n",
    "config.features = len(train_data.columns) - 1\n",
    "config.classes = len(set(train_data['class']))\n",
    "\n",
    "# Shuffle training data\n",
    "train_data = train_data.sample(frac=1).reset_index(drop=True)\n",
    "\n",
    "# Seperate data and classes\n",
    "train_y = np.array(train_data['class'])\n",
    "train_x = np.array(train_data.drop('class', 1))\n",
    "\n",
    "test_y = np.array(test_data['class'])\n",
    "test_x = np.array(test_data.drop('class', 1))\n",
    "\n",
    "train_y_onehot = list()\n",
    "for y in range(len(train_y)):\n",
    "    temp = [0] * config.classes\n",
    "    temp[train_y[y]] = 1\n",
    "    train_y_onehot.append(temp)\n",
    "    \n",
    "test_y_onehot = list()\n",
    "for y in range(len(test_y)):\n",
    "    temp = [0] * config.classes\n",
    "    temp[test_y[y]] = 1\n",
    "    test_y_onehot.append(temp)\n",
    "    \n",
    "train_y_onehot = np.array(train_y_onehot)\n",
    "test_y_onehot = np.array(test_y_onehot)\n",
    "\n",
    "tab = PrettyTable(['Config', 'Value'])\n",
    "configs = vars(config)\n",
    "\n",
    "for key in configs:\n",
    "    tab.add_row([key, configs[key]])\n",
    "print(tab)\n",
    "\n",
    "print(\"Instances in training data :\", len(train_data))\n",
    "print(\"Instances in testing data :\", len(test_data))"
   ]
  },
  {
   "cell_type": "code",
   "execution_count": 73,
   "metadata": {},
   "outputs": [
    {
     "data": {
      "text/plain": [
       "<keras.callbacks.History at 0x7f55cb57d550>"
      ]
     },
     "execution_count": 73,
     "metadata": {},
     "output_type": "execute_result"
    }
   ],
   "source": [
    "# -------------------- Model -------------------- #\n",
    "model = Sequential()\n",
    "\n",
    "# Input layer\n",
    "model.add(Dense(10, input_shape = (train_x.shape[1],), activation='softmax'))\n",
    "\n",
    "# Output layer\n",
    "model.compile(loss='categorical_crossentropy', optimizer='adam', metrics=['accuracy'])\n",
    "model.fit(train_x, train_y_onehot, epochs = 10, batch_size = 500, verbose=0)"
   ]
  },
  {
   "cell_type": "code",
   "execution_count": 81,
   "metadata": {},
   "outputs": [
    {
     "name": "stdout",
     "output_type": "stream",
     "text": [
      "Matches : 11403 / 25010 = 45.593762495002\n",
      "Average Error : 0.6568572570971611\n",
      "RMSE : 1.0399458663978547\n"
     ]
    },
    {
     "data": {
      "image/png": "[encoded data removed]",
      "text/plain": [
       "<Figure size 432x288 with 1 Axes>"
      ]
     },
     "metadata": {},
     "output_type": "display_data"
    }
   ],
   "source": [
    "preds = [list(x) for x in model.predict(train_x)]\n",
    "for i in range(len(preds)):\n",
    "    preds[i] = preds[i].index(max(preds[i]))\n",
    "\n",
    "train_matches = 0\n",
    "for i in range(len(train_y)):\n",
    "    if train_y[i] == preds[i]:\n",
    "        train_matches += 1\n",
    "        \n",
    "print(\"Matches :\", train_matches, '/', len(train_y), '=', train_matches/len(train_y) * 100)\n",
    "print(\"Average Error :\", sum([math.fabs(x-y) for x, y in zip(train_y, preds)])/len(train_y))\n",
    "print(\"RMSE :\", math.sqrt(sum([(x-y)**2 for x, y in zip(train_y, preds)])/len(train_y)))\n",
    "    \n",
    "plt.plot(train_y, 'bo', label='Original')\n",
    "plt.plot(preds, 'ro', label='Predicted')\n",
    "plt.legend()\n",
    "plt.show()"
   ]
  },
  {
   "cell_type": "code",
   "execution_count": 84,
   "metadata": {},
   "outputs": [
    {
     "name": "stdout",
     "output_type": "stream",
     "text": [
      "Matches : 458489 / 1000000 = 45.8489\n",
      "Average Error : 0.654053\n",
      "RMSE : 1.0354540067043057\n"
     ]
    },
    {
     "data": {
      "image/png": "[encoded data removed]",
      "text/plain": [
       "<Figure size 432x288 with 1 Axes>"
      ]
     },
     "metadata": {},
     "output_type": "display_data"
    }
   ],
   "source": [
    "preds = [list(x) for x in model.predict(test_x)]\n",
    "for i in range(len(preds)):\n",
    "    preds[i] = preds[i].index(max(preds[i]))\n",
    "\n",
    "test_matches = 0\n",
    "for i in range(len(test_y)):\n",
    "    if test_y[i] == preds[i]:\n",
    "        test_matches += 1\n",
    "        \n",
    "print(\"Matches :\", test_matches, '/', len(test_y), '=', test_matches/len(test_y) * 100)\n",
    "print(\"Average Error :\", sum([math.fabs(x-y) for x, y in zip(test_y, preds)])/len(test_y))\n",
    "print(\"RMSE :\", math.sqrt(sum([(x-y)**2 for x, y in zip(test_y, preds)])/len(test_y)))\n",
    "    \n",
    "plt.plot(test_y, 'bo', label='Original')\n",
    "plt.plot(preds, 'ro', label='Predicted')\n",
    "plt.legend()\n",
    "plt.show()"
   ]
  },
  {
   "cell_type": "code",
   "execution_count": 85,
   "metadata": {},
   "outputs": [
    {
     "name": "stdout",
     "output_type": "stream",
     "text": [
      "25010/25010 [==============================] - 1s 21us/step\n",
      "Train = acc 45.59376249690858\n",
      "1000000/1000000 [==============================] - 20s 20us/step\n",
      "Test = acc 45.8489\n"
     ]
    }
   ],
   "source": [
    "scores = model.evaluate(train_x, train_y_onehot)\n",
    "print(\"Train =\", model.metrics_names[1], scores[1] * 100)\n",
    "\n",
    "scores = model.evaluate(test_x, test_y_onehot)\n",
    "print(\"Test =\", model.metrics_names[1], scores[1] * 100)"
   ]
  },
  {
   "cell_type": "code",
   "execution_count": 86,
   "metadata": {},
   "outputs": [],
   "source": [
    "train_accuracies = list()\n",
    "test_accuracies = list()\n",
    "\n",
    "for iterations in range(50, 500, 50):\n",
    "    model.fit(train_x, train_y_onehot, epochs = iterations, batch_size = 500, verbose=0)\n",
    "    scores = model.evaluate(train_x, train_y_onehot, verbose=0)\n",
    "    train_accuracies.append(scores[1]* 100)\n",
    "    scores = model.evaluate(test_x, test_y_onehot, verbose=0)\n",
    "    test_accuracies.append(scores[1]* 100)"
   ]
  },
  {
   "cell_type": "code",
   "execution_count": 87,
   "metadata": {},
   "outputs": [
    {
     "data": {
      "image/png": "[encoded data removed]",
      "text/plain": [
       "<Figure size 432x288 with 1 Axes>"
      ]
     },
     "metadata": {},
     "output_type": "display_data"
    },
    {
     "data": {
      "image/png": "[encoded data removed]",
      "text/plain": [
       "<Figure size 432x288 with 1 Axes>"
      ]
     },
     "metadata": {},
     "output_type": "display_data"
    }
   ],
   "source": [
    "plt.title('Accuracies for training data')\n",
    "plt.plot(range(50, 500, 50), train_accuracies)\n",
    "plt.show()\n",
    "plt.title('Accuracies for testing data')\n",
    "plt.plot(range(50, 500, 50), test_accuracies)\n",
    "plt.show()"
   ]
  },
  {
   "cell_type": "code",
   "execution_count": null,
   "metadata": {},
   "outputs": [],
   "source": []
  }
 ],
 "metadata": {
  "kernelspec": {
   "display_name": "Python 3",
   "language": "python",
   "name": "python3"
  },
  "language_info": {
   "codemirror_mode": {
    "name": "ipython",
    "version": 3
   },
   "file_extension": ".py",
   "mimetype": "text/x-python",
   "name": "python",
   "nbconvert_exporter": "python",
   "pygments_lexer": "ipython3",
   "version": "3.6.4"
  }
 },
 "nbformat": 4,
 "nbformat_minor": 2
}
