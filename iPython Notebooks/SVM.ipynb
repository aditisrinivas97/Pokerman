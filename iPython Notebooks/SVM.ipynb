{
 "cells": [
  {
   "cell_type": "code",
   "execution_count": 2,
   "metadata": {},
   "outputs": [],
   "source": [
    "from sklearn import svm\n",
    "import numpy as np, pandas as pd, os\n",
    "from prettytable import PrettyTable\n",
    "from matplotlib import pyplot as plt"
   ]
  },
  {
   "cell_type": "code",
   "execution_count": 3,
   "metadata": {},
   "outputs": [],
   "source": [
    "# -------------------- Globals and Configs -------------------- #\n",
    "feature_names = list()\n",
    "for index in range(1, 6):\n",
    "    feature_names.extend([\"Suit\"+str(index), \"Rank\"+str(index)])\n",
    "\n",
    "feature_names.append('class')\n",
    "\n",
    "\n",
    "training_input_file = os.path.abspath('../data/csv/train.csv')\n",
    "testing_input_file = os.path.abspath('../data/csv/test.csv')\n",
    "\n",
    "np.random.seed(666)     # seed for reproducible results\n",
    "\n",
    "# To store configs\n",
    "class myConfigs:\n",
    "    features = 0\n",
    "    classes = 0\n",
    "\n",
    "\n",
    "config = myConfigs()"
   ]
  },
  {
   "cell_type": "code",
   "execution_count": 4,
   "metadata": {},
   "outputs": [
    {
     "name": "stdout",
     "output_type": "stream",
     "text": [
      "+----------+-------+\n",
      "|  Config  | Value |\n",
      "+----------+-------+\n",
      "| features |   10  |\n",
      "| classes  |   10  |\n",
      "+----------+-------+\n"
     ]
    }
   ],
   "source": [
    "# -------------------- Data -------------------- #\n",
    "\n",
    "train_data = pd.read_csv(training_input_file, names=feature_names)\n",
    "test_data = pd.read_csv(testing_input_file, names=feature_names)\n",
    "\n",
    "# Get features of data\n",
    "config.features = len(train_data.columns) - 1\n",
    "config.classes = len(set(train_data['class']))\n",
    "\n",
    "# Shuffle training data\n",
    "train_data = train_data.sample(frac=1).reset_index(drop=True)\n",
    "\n",
    "# Seperate data and classes\n",
    "train_y = np.array(train_data['class'])\n",
    "train_x = np.array(train_data.drop('class', 1))\n",
    "\n",
    "test_y = np.array(test_data['class'])\n",
    "test_x = np.array(test_data.drop('class', 1))\n",
    "\n",
    "if __name__ == '__main__':\n",
    "    tab = PrettyTable(['Config', 'Value'])\n",
    "    configs = vars(config)\n",
    "\n",
    "    for key in configs:\n",
    "        tab.add_row([key, configs[key]])\n",
    "    print(tab)\n"
   ]
  },
  {
   "cell_type": "code",
   "execution_count": 6,
   "metadata": {},
   "outputs": [
    {
     "name": "stdout",
     "output_type": "stream",
     "text": [
      "Generated model! Going to train...\n",
      "Done training! Going to test...\n",
      "Quarter done\n",
      "Quarter done\n",
      "Quarter done\n",
      "Generated predictions!\n"
     ]
    }
   ],
   "source": [
    "# -------------------- Model -------------------- #\n",
    "model = svm.SVC()\n",
    "print(\"Generated model! Going to train...\")\n",
    "\n",
    "# Training\n",
    "model.fit(train_x, train_y)\n",
    "print(\"Done training! Going to test...\")\n",
    "\n",
    "# Testing\n",
    "testLen = len(test_x)\n",
    "predictions = list()\n",
    "for l in range(testLen):\n",
    "    predictions.append(model.predict([test_x[l]])[0])\n",
    "    if l == (testLen // 4) or l == (testLen // 2) or l == ((testLen*3) // 4):\n",
    "        print(\"Quarter done\")\n",
    "\n",
    "print(\"Generated predictions!\")"
   ]
  },
  {
   "cell_type": "code",
   "execution_count": 8,
   "metadata": {},
   "outputs": [
    {
     "name": "stdout",
     "output_type": "stream",
     "text": [
      "Average error : 0.476125\n",
      "RMSE : 0.8120080048866514\n"
     ]
    }
   ],
   "source": [
    "import math\n",
    "\n",
    "avgError = sum([math.fabs(x-y) for x, y in zip(predictions, test_y)]) / len(predictions)\n",
    "print(\"Average error :\", avgError)\n",
    "\n",
    "rmsError = sum([(x-y)**2 for x, y in zip(predictions, test_y)]) / len(predictions)\n",
    "rmsError = math.sqrt(rmsError)\n",
    "print(\"RMSE :\", rmsError)"
   ]
  },
  {
   "cell_type": "code",
   "execution_count": 9,
   "metadata": {},
   "outputs": [
    {
     "data": {
      "image/png": "[encoded data removed]",
      "text/plain": [
       "<Figure size 432x288 with 1 Axes>"
      ]
     },
     "metadata": {},
     "output_type": "display_data"
    }
   ],
   "source": [
    "plt.plot(test_y, label='actual')\n",
    "plt.plot(predictions, label='predicted')\n",
    "plt.legend()\n",
    "plt.show()"
   ]
  },
  {
   "cell_type": "code",
   "execution_count": null,
   "metadata": {},
   "outputs": [],
   "source": []
  }
 ],
 "metadata": {
  "kernelspec": {
   "display_name": "Python 3",
   "language": "python",
   "name": "python3"
  },
  "language_info": {
   "codemirror_mode": {
    "name": "ipython",
    "version": 3
   },
   "file_extension": ".py",
   "mimetype": "text/x-python",
   "name": "python",
   "nbconvert_exporter": "python",
   "pygments_lexer": "ipython3",
   "version": "3.6.4"
  }
 },
 "nbformat": 4,
 "nbformat_minor": 2
}
